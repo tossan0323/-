{
  "nbformat": 4,
  "nbformat_minor": 0,
  "metadata": {
    "colab": {
      "name": "企業用成果物.ipynb",
      "provenance": [],
      "collapsed_sections": []
    },
    "kernelspec": {
      "name": "python3",
      "display_name": "Python 3"
    },
    "language_info": {
      "name": "python"
    }
  },
  "cells": [
    {
      "cell_type": "code",
      "metadata": {
        "colab": {
          "base_uri": "https://localhost:8080/"
        },
        "id": "68iTrpZUGPAC",
        "outputId": "513bac28-cc60-4bad-9e94-3367c137c5a4"
      },
      "source": [
        "import sys\n",
        "print (sys.version)\n",
        "import numpy as np\n",
        "print (np.__version__)\n",
        "import pandas as pd\n",
        "print (pd.__version__)\n",
        "import matplotlib\n",
        "print (matplotlib.__version__)\n",
        "import sklearn\n",
        "print (sklearn.__version__)"
      ],
      "execution_count": 19,
      "outputs": [
        {
          "output_type": "stream",
          "name": "stdout",
          "text": [
            "3.7.12 (default, Jan 15 2022, 18:48:18) \n",
            "[GCC 7.5.0]\n",
            "1.21.5\n",
            "1.3.5\n",
            "3.2.2\n",
            "1.0.2\n"
          ]
        }
      ]
    },
    {
      "cell_type": "code",
      "metadata": {
        "colab": {
          "base_uri": "https://localhost:8080/"
        },
        "id": "Y4EAmD6QG8FO",
        "outputId": "67774ade-ffdb-4841-f175-323861c6b5fe"
      },
      "source": [
        "import numpy as np\n",
        "import time\n",
        "b = 10\n",
        "# (A)\n",
        "freq = np.zeros(10)\n",
        "# (B)\n",
        "arr = np.random.normal(size=1000000)\n",
        "tts = time.time()\n",
        "for j in range(arr.size) :\n",
        " ind = int(arr[j]*2.0+5.0)\n",
        " # (start)\n",
        "try:\n",
        "  freq[ind]+=1\n",
        "except IndexError:\n",
        "  ind = 0 if ind<0 else ( b-1 if ind>=b else ind )\n",
        "  freq[ind]+=1\n",
        "# (end)\n",
        "tte = time.time()\n",
        "print (\"time = \",tte-tts)\n",
        "print (freq)\n",
        "\n",
        "print ('mean = ',np.mean(arr))\n",
        "# (C)\n",
        "print(arr)\n",
        "print(np.argmin(arr))\n",
        "print(np.argmax(arr))\n",
        "print(np.median(arr))\n",
        "print(np.var(arr))"
      ],
      "execution_count": 20,
      "outputs": [
        {
          "output_type": "stream",
          "name": "stdout",
          "text": [
            "time =  0.671668529510498\n",
            "[0. 0. 0. 0. 0. 1. 0. 0. 0. 0.]\n",
            "mean =  -0.0013881038600918316\n",
            "[-1.56231133 -0.91393237 -0.87747733 ... -1.04838379  0.48163675\n",
            "  0.07864931]\n",
            "528741\n",
            "780589\n",
            "-0.002293681832061672\n",
            "1.0004724956270419\n"
          ]
        }
      ]
    },
    {
      "cell_type": "code",
      "metadata": {
        "id": "B2Oibvw_ewZ4",
        "colab": {
          "base_uri": "https://localhost:8080/",
          "height": 321
        },
        "outputId": "fede5309-1209-4156-828d-ca858ade9753"
      },
      "source": [
        "import numpy as np\n",
        "from scipy.interpolate import make_interp_spline\n",
        "import time\n",
        "b = 10\n",
        "# (A)\n",
        "freq = [0 for _ in range(b)]\n",
        "# (B)\n",
        "arr = np.random.normal(size=1000000)\n",
        "tts = time.time()\n",
        "for j in range(arr.size) :\n",
        " ind = int(arr[j]*2.0+5.0)\n",
        " # (start)\n",
        " try:\n",
        "  freq[ind]+=1\n",
        " except IndexError:\n",
        "  ind = 0 if ind<0 else ( b-1 if ind>=b else ind )\n",
        "  freq[ind]+=1\n",
        "# (end)\n",
        "tte = time.time()\n",
        "print (\"time = \",tte-tts)\n",
        "print (freq)\n",
        "\n",
        "print ('mean = ',np.mean(arr))\n",
        "# (C)\n",
        "import matplotlib.pyplot as plt\n",
        "#plt.bar(range(b),freq) #棒グラフ\n",
        "plt.plot(range(b),freq) #折れ線グラフ\n",
        "#plt.show()\n",
        "plt.savefig(\"2.png\")"
      ],
      "execution_count": 21,
      "outputs": [
        {
          "output_type": "stream",
          "name": "stdout",
          "text": [
            "time =  0.813539981842041\n",
            "[21177, 43982, 91802, 150260, 191968, 190994, 149774, 91577, 44562, 23904]\n",
            "mean =  0.00024112131865891575\n"
          ]
        },
        {
          "output_type": "display_data",
          "data": {
            "image/png": "[encoded data removed]",
            "text/plain": [
              "<Figure size 432x288 with 1 Axes>"
            ]
          },
          "metadata": {
            "needs_background": "light"
          }
        }
      ]
    },
    {
      "cell_type": "code",
      "metadata": {
        "colab": {
          "base_uri": "https://localhost:8080/"
        },
        "id": "GzgqKVhkG9Ce",
        "outputId": "f5f5dca3-7066-4c25-b6f4-c79d1a473e24"
      },
      "source": [
        "import pandas as pd\n",
        "df = pd.read_csv('http://callisto.comlab.soft.iwate-pu.ac.jp/~takata/course/course1-3.csv')\n",
        "# (A)\n",
        "print (df.shape)\n",
        "# (B)\n",
        "print (df.head(4))\n",
        "# (C)\n",
        "print (df[df['研究室']=='高田'])\n",
        "# (D)\n",
        "print (df.groupby(['第1期'])['第1期'].count())\n",
        "# (E)\n",
        "print (df.groupby(['第1期', '第2期'])['第1期'].count())\n",
        "\n",
        "print (df.groupby(['第3期'])['第3期'].count())\n",
        "\n",
        "print (df.groupby(['第4期'])['第4期'].count())\n",
        "\n",
        "print (df.groupby(['第3期', '第4期'])['第3期'].count())\n",
        "\n",
        "print (df[df['研究室']=='猪股'])\n",
        "\n",
        "print (df[df['研究室']=='猪股'].groupby(['第3期', '第4期'])['研究室'].count())\n",
        "\n",
        "da = df[df['第3期']=='高田１']\n",
        "db = df[df['第4期']=='高田２']\n",
        "dab = pd.concat([da,db])\n",
        "print (dab)"
      ],
      "execution_count": 22,
      "outputs": [
        {
          "output_type": "stream",
          "name": "stdout",
          "text": [
            "(30, 7)\n",
            "        学籍番号     氏名 研究室 第1期  第2期 第3期  第4期\n",
            "0  312019011  伊藤アラン  大堀   王  岡本１  竹野   大堀\n",
            "1  312019021   岩下優太  猪股  児玉   猪股  田村  高田２\n",
            "2  312019022   上山太壱  竹野   王   猪股  竹野  岡本２\n",
            "3  312019027   及川颯希  田村  児玉   片町  田村   大堀\n",
            "         学籍番号    氏名 研究室 第1期  第2期  第3期  第4期\n",
            "8   312019051   畔柳怜  高田  山田   猪股  高田１  岡本２\n",
            "14  312019116  冨樫竜斗  高田  児玉   片町  高田１  岡本２\n",
            "27  312019164  吉田成那  高田  児玉   猪股   田村  高田２\n",
            "28  312019166  渡邉泰生  高田   王   猪股   田村  高田２\n",
            "29  312021304   大澤碧  高田  山田  岡本１   竹野  高田２\n",
            "第1期\n",
            "児玉    12\n",
            "山田    10\n",
            "王      8\n",
            "Name: 第1期, dtype: int64\n",
            "第1期  第2期\n",
            "児玉   岡本１    2\n",
            "     片町     4\n",
            "     猪股     6\n",
            "山田   岡本１    1\n",
            "     片町     3\n",
            "     猪股     6\n",
            "王    岡本１    3\n",
            "     片町     2\n",
            "     猪股     3\n",
            "Name: 第1期, dtype: int64\n",
            "第3期\n",
            "田村     10\n",
            "竹野     13\n",
            "高田１     7\n",
            "Name: 第3期, dtype: int64\n",
            "第4期\n",
            "大堀     12\n",
            "岡本２     6\n",
            "高田２    12\n",
            "Name: 第4期, dtype: int64\n",
            "第3期  第4期\n",
            "田村   大堀     4\n",
            "     岡本２    2\n",
            "     高田２    4\n",
            "竹野   大堀     4\n",
            "     岡本２    1\n",
            "     高田２    8\n",
            "高田１  大堀     4\n",
            "     岡本２    3\n",
            "Name: 第3期, dtype: int64\n",
            "        学籍番号    氏名 研究室 第1期 第2期  第3期  第4期\n",
            "1  312019021  岩下優太  猪股  児玉  猪股   田村  高田２\n",
            "4  312019029  大岩哉貴  猪股  児玉  猪股  高田１   大堀\n",
            "6  312019042  加藤浩豊  猪股  山田  猪股   田村   大堀\n",
            "第3期  第4期\n",
            "田村   大堀     1\n",
            "     高田２    1\n",
            "高田１  大堀     1\n",
            "Name: 研究室, dtype: int64\n",
            "         学籍番号     氏名 研究室 第1期  第2期  第3期  第4期\n",
            "4   312019029   大岩哉貴  猪股  児玉   猪股  高田１   大堀\n",
            "8   312019051    畔柳怜  高田  山田   猪股  高田１  岡本２\n",
            "13  312019112   對馬有輝  大堀  山田   猪股  高田１   大堀\n",
            "14  312019116   冨樫竜斗  高田  児玉   片町  高田１  岡本２\n",
            "16  312019118   豊嶋壮汰   王   王   片町  高田１   大堀\n",
            "21  312019143   藤原有希  児玉  児玉   猪股  高田１  岡本２\n",
            "26  312019163   山本英輔  児玉  児玉  岡本１  高田１   大堀\n",
            "1   312019021   岩下優太  猪股  児玉   猪股   田村  高田２\n",
            "7   312019047   菊池星輝   王   王  岡本１   竹野  高田２\n",
            "9   312019053   小林柊花  児玉  児玉   猪股   竹野  高田２\n",
            "10  312019056   小村井聖  田村  児玉   猪股   田村  高田２\n",
            "11  312019078    佐藤柊  山田  山田   片町   竹野  高田２\n",
            "17  312019120  長井香奈枝  山田  山田   片町   竹野  高田２\n",
            "19  312019134   早坂光生  竹野   王   片町   竹野  高田２\n",
            "23  312019160   山田瑛司  山田  山田   猪股   竹野  高田２\n",
            "24  312019161   大和美咲  竹野  山田   猪股   竹野  高田２\n",
            "27  312019164   吉田成那  高田  児玉   猪股   田村  高田２\n",
            "28  312019166   渡邉泰生  高田   王   猪股   田村  高田２\n",
            "29  312021304    大澤碧  高田  山田  岡本１   竹野  高田２\n"
          ]
        }
      ]
    },
    {
      "cell_type": "code",
      "metadata": {
        "id": "izawGqDfQcAk",
        "colab": {
          "base_uri": "https://localhost:8080/"
        },
        "outputId": "3845027a-6acf-447f-f71c-75370afbc886"
      },
      "source": [
        "import pandas as pd\n",
        "# (A)\n",
        "def zerofuka(x):\n",
        " return \"0\"+str(x)\n",
        "def kenhuka(x):\n",
        " return str(x)+\"研究室\"\n",
        "df = pd.read_csv('http://callisto.comlab.soft.iwate-pu.ac.jp/~takata/course/course1-3.csv')\n",
        "# (B)\n",
        "dz = df['学籍番号'].apply(zerofuka)\n",
        "print(dz.head(4))\n",
        "# (C)\n",
        "ddr = df.drop(df.columns[0],axis=1)\n",
        "print(ddr.head(4))\n",
        "# (D)\n",
        "ddf = pd.concat([dz,ddr],axis=1)\n",
        "print(ddf.head(4))\n",
        "\n",
        "dff = df['研究室'].apply(kenhuka)\n",
        "print(dff.head(4))"
      ],
      "execution_count": 23,
      "outputs": [
        {
          "output_type": "stream",
          "name": "stdout",
          "text": [
            "0    0312019011\n",
            "1    0312019021\n",
            "2    0312019022\n",
            "3    0312019027\n",
            "Name: 学籍番号, dtype: object\n",
            "      氏名 研究室 第1期  第2期 第3期  第4期\n",
            "0  伊藤アラン  大堀   王  岡本１  竹野   大堀\n",
            "1   岩下優太  猪股  児玉   猪股  田村  高田２\n",
            "2   上山太壱  竹野   王   猪股  竹野  岡本２\n",
            "3   及川颯希  田村  児玉   片町  田村   大堀\n",
            "         学籍番号     氏名 研究室 第1期  第2期 第3期  第4期\n",
            "0  0312019011  伊藤アラン  大堀   王  岡本１  竹野   大堀\n",
            "1  0312019021   岩下優太  猪股  児玉   猪股  田村  高田２\n",
            "2  0312019022   上山太壱  竹野   王   猪股  竹野  岡本２\n",
            "3  0312019027   及川颯希  田村  児玉   片町  田村   大堀\n",
            "0    大堀研究室\n",
            "1    猪股研究室\n",
            "2    竹野研究室\n",
            "3    田村研究室\n",
            "Name: 研究室, dtype: object\n"
          ]
        }
      ]
    },
    {
      "cell_type": "code",
      "metadata": {
        "colab": {
          "base_uri": "https://localhost:8080/"
        },
        "id": "i08tz5Lyoemf",
        "outputId": "68adab46-c869-4f2b-9cc0-e61f76901398"
      },
      "source": [
        "import pandas as pd\n",
        "# (A)\n",
        "f=lambda x: \"0\"+str(x) \n",
        "df = pd.read_csv('http://callisto.comlab.soft.iwate-pu.ac.jp/~takata/course/course1-3.csv')\n",
        "# (B)\n",
        "dz = df['学籍番号'].apply(f)\n",
        "print(dz.head(4))\n",
        "# (C)\n",
        "ddr = df.drop(df.columns[0],axis=1)\n",
        "print(ddr.head(4))\n",
        "# (D)\n",
        "ddf = pd.concat([dz,ddr],axis=1)\n",
        "print(ddf.head(4))\n"
      ],
      "execution_count": 24,
      "outputs": [
        {
          "output_type": "stream",
          "name": "stdout",
          "text": [
            "0    0312019011\n",
            "1    0312019021\n",
            "2    0312019022\n",
            "3    0312019027\n",
            "Name: 学籍番号, dtype: object\n",
            "      氏名 研究室 第1期  第2期 第3期  第4期\n",
            "0  伊藤アラン  大堀   王  岡本１  竹野   大堀\n",
            "1   岩下優太  猪股  児玉   猪股  田村  高田２\n",
            "2   上山太壱  竹野   王   猪股  竹野  岡本２\n",
            "3   及川颯希  田村  児玉   片町  田村   大堀\n",
            "         学籍番号     氏名 研究室 第1期  第2期 第3期  第4期\n",
            "0  0312019011  伊藤アラン  大堀   王  岡本１  竹野   大堀\n",
            "1  0312019021   岩下優太  猪股  児玉   猪股  田村  高田２\n",
            "2  0312019022   上山太壱  竹野   王   猪股  竹野  岡本２\n",
            "3  0312019027   及川颯希  田村  児玉   片町  田村   大堀\n"
          ]
        }
      ]
    },
    {
      "cell_type": "code",
      "metadata": {
        "colab": {
          "base_uri": "https://localhost:8080/"
        },
        "id": "jWyQrkg9qCkI",
        "outputId": "51da6e3c-1a79-433f-8558-fefefa2fd0af"
      },
      "source": [
        "pip install japanize_matplotlib"
      ],
      "execution_count": 25,
      "outputs": [
        {
          "output_type": "stream",
          "name": "stdout",
          "text": [
            "Requirement already satisfied: japanize_matplotlib in /usr/local/lib/python3.7/dist-packages (1.1.3)\n",
            "Requirement already satisfied: matplotlib in /usr/local/lib/python3.7/dist-packages (from japanize_matplotlib) (3.2.2)\n",
            "Requirement already satisfied: numpy>=1.11 in /usr/local/lib/python3.7/dist-packages (from matplotlib->japanize_matplotlib) (1.21.5)\n",
            "Requirement already satisfied: pyparsing!=2.0.4,!=2.1.2,!=2.1.6,>=2.0.1 in /usr/local/lib/python3.7/dist-packages (from matplotlib->japanize_matplotlib) (3.0.7)\n",
            "Requirement already satisfied: kiwisolver>=1.0.1 in /usr/local/lib/python3.7/dist-packages (from matplotlib->japanize_matplotlib) (1.3.2)\n",
            "Requirement already satisfied: cycler>=0.10 in /usr/local/lib/python3.7/dist-packages (from matplotlib->japanize_matplotlib) (0.11.0)\n",
            "Requirement already satisfied: python-dateutil>=2.1 in /usr/local/lib/python3.7/dist-packages (from matplotlib->japanize_matplotlib) (2.8.2)\n",
            "Requirement already satisfied: six>=1.5 in /usr/local/lib/python3.7/dist-packages (from python-dateutil>=2.1->matplotlib->japanize_matplotlib) (1.15.0)\n"
          ]
        }
      ]
    },
    {
      "cell_type": "code",
      "metadata": {
        "colab": {
          "base_uri": "https://localhost:8080/",
          "height": 265
        },
        "id": "r9tR33yiITSN",
        "outputId": "fbc288c7-1c38-43a5-838a-0f8763dac4ce"
      },
      "source": [
        "import pandas as pd\n",
        "import matplotlib.pyplot as plt\n",
        "import japanize_matplotlib\n",
        "\n",
        "df = pd.read_csv('http://callisto.comlab.soft.iwate-pu.ac.jp/~takata/course/course1-3.csv')\n",
        "dl = df.groupby(['第1期'])['第1期'].count()\n",
        "plt.bar(dl.index,dl)\n",
        "#plt.show()\n",
        "plt.savefig(\"3.png\")"
      ],
      "execution_count": 26,
      "outputs": [
        {
          "output_type": "display_data",
          "data": {
            "image/png": "[encoded data removed]",
            "text/plain": [
              "<Figure size 432x288 with 1 Axes>"
            ]
          },
          "metadata": {
            "needs_background": "light"
          }
        }
      ]
    },
    {
      "cell_type": "code",
      "metadata": {
        "colab": {
          "base_uri": "https://localhost:8080/",
          "height": 265
        },
        "id": "5q-PjpkrpNbf",
        "outputId": "3b6ca6b5-4c10-45b7-d1bb-89e486dc7b45"
      },
      "source": [
        "import pandas as pd\n",
        "import matplotlib.pyplot as plt\n",
        "import japanize_matplotlib\n",
        "\n",
        "df = pd.read_csv('http://callisto.comlab.soft.iwate-pu.ac.jp/~takata/course/course1-3.csv')\n",
        "dl = df.groupby(['第2期'])['第2期'].count()\n",
        "plt.bar(dl.index,dl)\n",
        "#plt.show()\n",
        "plt.savefig(\"4.png\")"
      ],
      "execution_count": 27,
      "outputs": [
        {
          "output_type": "display_data",
          "data": {
            "image/png": "[encoded data removed]",
            "text/plain": [
              "<Figure size 432x288 with 1 Axes>"
            ]
          },
          "metadata": {
            "needs_background": "light"
          }
        }
      ]
    },
    {
      "cell_type": "code",
      "metadata": {
        "colab": {
          "base_uri": "https://localhost:8080/",
          "height": 264
        },
        "id": "UvqcJz-SaARd",
        "outputId": "27dd761f-73b2-48a6-c26e-73fbf1492c62"
      },
      "source": [
        "import pandas as pd\n",
        "import matplotlib.pyplot as plt\n",
        "import japanize_matplotlib\n",
        "df = pd.read_csv('http://callisto.comlab.soft.iwate-pu.ac.jp/~takata/course/course1-3.csv')\n",
        "fig = plt.figure()\n",
        "cl = ['blue', 'green', 'red', 'black']\n",
        "ll = ['第'+str(i+1)+'期'for i in range(4)]\n",
        "axs = [None for _ in range(4)]\n",
        "for figno in range(4) :\n",
        " axs[figno] = fig.add_subplot(2, 2, figno+1)\n",
        "# (A)\n",
        "kis = df.columns[3:7]\n",
        "for i,figno in zip(kis,range(4)) :\n",
        " ddf = df.groupby(i)['氏名'].count()\n",
        "# (B)\n",
        " axs[figno].bar(ddf.index,ddf,color=cl, label=cl)\n",
        "#plt.show()\n",
        "plt.savefig(\"7.png\")"
      ],
      "execution_count": 28,
      "outputs": [
        {
          "output_type": "display_data",
          "data": {
            "image/png": "[encoded data removed]",
            "text/plain": [
              "<Figure size 432x288 with 4 Axes>"
            ]
          },
          "metadata": {
            "needs_background": "light"
          }
        }
      ]
    },
    {
      "cell_type": "code",
      "metadata": {
        "id": "piXWlr_dM5-h",
        "colab": {
          "base_uri": "https://localhost:8080/",
          "height": 494
        },
        "outputId": "c04ebfb3-6845-4bc0-a928-aba24d797ec6"
      },
      "source": [
        "import pandas as pd\n",
        "df = pd.read_csv('http://callisto.comlab.soft.iwate-pu.ac.jp/~takata/course/course1-3.csv')\n",
        "# (A)\n",
        "ct = pd.crosstab(index=[df['第1期'],df['第4期']], columns=[df['第2期'],df['第3期']])\n",
        "print (ct)\n",
        "# (B)\n",
        "dgcol = df.groupby(['第1期']).size().index\n",
        "dgrow = df.groupby(['第2期']).size().index\n",
        "import matplotlib.pyplot as plt\n",
        "import japanize_matplotlib\n",
        "fig, ax = plt.subplots()\n",
        "ax.pcolor(ct,cmap=plt.cm.Oranges)\n",
        "ax.set_xticks(np.arange(dgrow.size)+0.5, minor=False)\n",
        "ax.set_yticks(np.arange(dgcol.size)+0.5, minor=False)\n",
        "ax.set_xticklabels(dgrow, minor=False)\n",
        "ax.set_yticklabels(dgcol, minor=False)\n",
        "plt.grid(False)\n",
        "plt.xlabel('第2期')\n",
        "plt.ylabel('第1期')\n",
        "#plt.show()\n",
        "plt.savefig(\"5.png\")"
      ],
      "execution_count": 29,
      "outputs": [
        {
          "output_type": "stream",
          "name": "stdout",
          "text": [
            "第2期     岡本１     片町        猪股       \n",
            "第3期      竹野 高田１ 田村 竹野 高田１ 田村 竹野 高田１\n",
            "第1期 第4期                            \n",
            "児玉  大堀    1   1  2  0   0  0  0   1\n",
            "    岡本２   0   0  1  0   1  0  0   1\n",
            "    高田２   0   0  0  0   0  3  1   0\n",
            "山田  大堀    0   0  0  0   0  2  0   1\n",
            "    岡本２   0   0  1  0   0  0  0   1\n",
            "    高田２   1   0  0  2   0  0  2   0\n",
            "王   大堀    2   0  0  0   1  0  1   0\n",
            "    岡本２   0   0  0  0   0  0  1   0\n",
            "    高田２   1   0  0  1   0  1  0   0\n"
          ]
        },
        {
          "output_type": "display_data",
          "data": {
            "image/png": "[encoded data removed]",
            "text/plain": [
              "<Figure size 432x288 with 1 Axes>"
            ]
          },
          "metadata": {
            "needs_background": "light"
          }
        }
      ]
    },
    {
      "cell_type": "code",
      "metadata": {
        "id": "-ajBMrGNzGYA",
        "colab": {
          "base_uri": "https://localhost:8080/",
          "height": 292
        },
        "outputId": "964c11cf-2d46-46b7-effa-1cdef7570200"
      },
      "source": [
        "import pandas as pd\n",
        "import matplotlib.pyplot as plt\n",
        "# データの読み込み\n",
        "df = pd.read_csv('http://callisto.comlab.soft.iwate-pu.ac.jp/~takata/course/testdata3.csv',names=['label','x','y'])\n",
        "# print (df.shape),\n",
        "# print (df.head(4))\n",
        "# データをラベルが A のものと B のものに分割し,\n",
        "# それぞれ dataA, dataB に格納する\n",
        "dataA = df[df.label == \"A\"]\n",
        "dataB = df[df.label == \"B\"]\n",
        "# print (dataB.head(4))\n",
        "fig = plt.figure()\n",
        "\n",
        "ax = fig.add_subplot(1,1,1)\n",
        "\n",
        "plt.grid(True)\n",
        "ax.scatter(dataA[\"x\"],dataA[\"y\"],s=30, c='red',marker='o',label='A')\n",
        "ax.scatter(dataB[\"x\"],dataB[\"y\"],s=40, c='blue',marker='^',label='B')\n",
        "ax.set_title(\"S\")\n",
        "ax.set_xlabel(\"x\")\n",
        "ax.set_ylabel(\"y\")\n",
        "ax.legend(loc= 'upper right')\n",
        "#plt.show()\n",
        "plt.savefig(\"9.png\")"
      ],
      "execution_count": 30,
      "outputs": [
        {
          "output_type": "display_data",
          "data": {
            "image/png": "[encoded data removed]",
            "text/plain": [
              "<Figure size 432x288 with 1 Axes>"
            ]
          },
          "metadata": {
            "needs_background": "light"
          }
        }
      ]
    },
    {
      "cell_type": "code",
      "metadata": {
        "colab": {
          "base_uri": "https://localhost:8080/"
        },
        "id": "JZzq6S94KOC5",
        "outputId": "c9055110-1129-4264-ad3c-ec8094228b0c"
      },
      "source": [
        "#4-1\n",
        "import numpy as np\n",
        "import pandas as pd\n",
        "# 訓練データとテストデータに分割\n",
        "from sklearn.model_selection import train_test_split\n",
        "from sklearn import metrics\n",
        "# (S1)\n",
        "from sklearn.svm import LinearSVC # 線形サポートベクターマシン\n",
        "# (F)\n",
        "df = pd.read_csv('http://callisto.comlab.soft.iwate-pu.ac.jp/~takata/course/testdata1.csv',names=['label','x','y'])\n",
        "# (A)\n",
        "test_df = df.drop(\"label\", axis=1)\n",
        "#print(df.head())\n",
        "# (B)\n",
        "test_target_data = pd.DataFrame(df['label'],columns=[\"label\"])\n",
        "#print(test_target_data.head())\n",
        "# (C)\n",
        "X_train, X_test, Y_trainDF, Y_test = train_test_split(\n",
        "\n",
        "test_df,test_target_data,test_size=20,train_size=80)\n",
        "\n",
        "# (D)\n",
        "#print(Y_trainDF.head())\n",
        "Y_trainDFv = Y_trainDF.values\n",
        "# print(Y_trainDFv[:5])\n",
        "# (E)\n",
        "Y_train = Y_trainDFv.ravel()\n",
        "# print(Y_train[:5])\n",
        "# 分類器オブジェクトが clf\n",
        "# (S2)\n",
        "clf = LinearSVC()\n",
        "\n",
        "# X_train, Y_train の組を用いて学習を行う\n",
        "clf.fit(X_train, Y_train)\n",
        "\n",
        "# 学習結果を用いて X_test を分類し, 結果を Y_pred へ\n",
        "Y_pred = clf.predict(X_test)\n",
        "\n",
        "# 正解ラベル Y_test と比較することにより accuracy を求める\n",
        "print(metrics.accuracy_score(Y_test, Y_pred))\n",
        "# (LAST)\n",
        "#交差検証\n",
        "from sklearn.model_selection import cross_val_score\n",
        "scores = cross_val_score(clf, test_df, test_target_data.values.ravel())\n",
        "print('* Cross-Validation scores: {}'.format(scores))\n",
        "print('* Average score: {}'.format(np.mean(scores)))\n",
        "from sklearn.metrics import confusion_matrix # 混同行列\n",
        "cm = confusion_matrix(Y_test, Y_pred)\n",
        "print (cm)\n",
        "# print (cm.flatten())\n",
        "tn, fp, fn, tp = cm.flatten()\n",
        "print (tn, fp, fn, tp)\n",
        "# (L)\n",
        "p = tp / (tp+fp)\n",
        "r = tp / (tp+fn)\n",
        "f1_score= 2*(p*r) / (p+r)\n",
        "print(p)\n",
        "print(r)\n",
        "print(f1_score)"
      ],
      "execution_count": 31,
      "outputs": [
        {
          "output_type": "stream",
          "name": "stdout",
          "text": [
            "0.85\n",
            "* Cross-Validation scores: [0.95 1.   0.9  0.95 0.95]\n",
            "* Average score: 0.95\n",
            "[[8 2]\n",
            " [1 9]]\n",
            "8 2 1 9\n",
            "0.8181818181818182\n",
            "0.9\n",
            "0.8571428571428572\n"
          ]
        }
      ]
    },
    {
      "cell_type": "code",
      "metadata": {
        "id": "8f1VLSAFMcsG"
      },
      "source": [
        ""
      ],
      "execution_count": 31,
      "outputs": []
    },
    {
      "cell_type": "code",
      "metadata": {
        "id": "T1sytVPsN2iM",
        "colab": {
          "base_uri": "https://localhost:8080/",
          "height": 494
        },
        "outputId": "9764cebb-f501-4209-a870-83512ab342a0"
      },
      "source": [
        "import pandas as pd\n",
        "df = pd.read_csv('http://callisto.comlab.soft.iwate-pu.ac.jp/~takata/course/course1-3.csv')\n",
        "# (A)\n",
        "ct = pd.crosstab(index=[df['第1期'],df['第4期']], columns=[df['第2期'],df['第3期']])\n",
        "print (ct)\n",
        "# (B)\n",
        "dgcol = df.groupby(['第1期']).size().index\n",
        "dgrow = df.groupby(['第2期']).size().index\n",
        "import matplotlib.pyplot as plt\n",
        "import japanize_matplotlib\n",
        "fig, ax = plt.subplots()\n",
        "ax.pcolor(ct,cmap=plt.cm.Oranges)\n",
        "ax.set_xticks(np.arange(dgrow.size)+0.5, minor=False)\n",
        "ax.set_yticks(np.arange(dgcol.size)+0.5, minor=False)\n",
        "ax.set_xticklabels(dgrow, minor=False)\n",
        "ax.set_yticklabels(dgcol, minor=False)\n",
        "plt.grid(False)\n",
        "plt.xlabel('第2期')\n",
        "plt.ylabel('第1期')\n",
        "#plt.show()\n",
        "plt.savefig(\"5.png\")"
      ],
      "execution_count": 32,
      "outputs": [
        {
          "output_type": "stream",
          "name": "stdout",
          "text": [
            "第2期     岡本１     片町        猪股       \n",
            "第3期      竹野 高田１ 田村 竹野 高田１ 田村 竹野 高田１\n",
            "第1期 第4期                            \n",
            "児玉  大堀    1   1  2  0   0  0  0   1\n",
            "    岡本２   0   0  1  0   1  0  0   1\n",
            "    高田２   0   0  0  0   0  3  1   0\n",
            "山田  大堀    0   0  0  0   0  2  0   1\n",
            "    岡本２   0   0  1  0   0  0  0   1\n",
            "    高田２   1   0  0  2   0  0  2   0\n",
            "王   大堀    2   0  0  0   1  0  1   0\n",
            "    岡本２   0   0  0  0   0  0  1   0\n",
            "    高田２   1   0  0  1   0  1  0   0\n"
          ]
        },
        {
          "output_type": "display_data",
          "data": {
            "image/png": "[encoded data removed]",
            "text/plain": [
              "<Figure size 432x288 with 1 Axes>"
            ]
          },
          "metadata": {
            "needs_background": "light"
          }
        }
      ]
    },
    {
      "cell_type": "code",
      "metadata": {
        "id": "82Z-aIj8KEV6",
        "colab": {
          "base_uri": "https://localhost:8080/"
        },
        "outputId": "905dad41-07e1-4423-d792-7a0a050e525b"
      },
      "source": [
        "#5-1 #線形SVM k-近傍法\n",
        "import numpy as np\n",
        "import pandas as pd\n",
        "import warnings\n",
        "warnings.filterwarnings('ignore')\n",
        "# 訓練データとテストデータに分割\n",
        "from sklearn.model_selection import train_test_split\n",
        "from sklearn import metrics\n",
        "from sklearn.neighbors import KNeighborsClassifier #k-近傍法\n",
        "# (S1)\n",
        "from sklearn.svm import LinearSVC # 線形サポートベクターマシン\n",
        "# (F)\n",
        "df = pd.read_csv('http://callisto.comlab.soft.iwate-pu.ac.jp/~takata/course/testdata3.csv',names=['label','x','y'])\n",
        "# (A)\n",
        "test_df = df.drop(\"label\", axis=1)\n",
        "#print(df.head())\n",
        "# (B)\n",
        "test_target_data = pd.DataFrame(df['label'],columns=[\"label\"])\n",
        "#print(test_target_data.head())\n",
        "# (C)\n",
        "X_train, X_test, Y_trainDF, Y_test = train_test_split(\n",
        "\n",
        "test_df,test_target_data,test_size=20,train_size=80)\n",
        "\n",
        "# (D)\n",
        "#print(Y_trainDF.head())\n",
        "Y_trainDFv = Y_trainDF.values\n",
        "# print(Y_trainDFv[:5])\n",
        "# (E)\n",
        "Y_train = Y_trainDFv.ravel()\n",
        "# print(Y_train[:5])\n",
        "# 分類器オブジェクトが clf\n",
        "# (S2)\n",
        "#k=1\n",
        "#knc = KNeighborsClassifier(n_neighbors=k)\n",
        "clf = LinearSVC()\n",
        "# X_train, Y_train の組を用いて学習を行う\n",
        "clf.fit(X_train, Y_train)\n",
        "#knc.fit(X_train, Y_train)\n",
        "# 学習結果を用いて X_test を分類し, 結果を Y_pred へ\n",
        "Y_pred = clf.predict(X_test)\n",
        "#Y_pred = knc.predict(X_test)\n",
        "print(metrics.accuracy_score(Y_test, Y_pred))\n",
        "# 正解ラベル Y_test と比較することにより accuracy を求める\n",
        "#print(metrics.accuracy_score(Y_test, Y_pred))\n",
        "# (LAST)\n",
        "#交差検証\n",
        "from sklearn.model_selection import cross_val_score\n",
        "scores = cross_val_score(clf, test_df, test_target_data.values.ravel())\n",
        "print('* Cross-Validation scores: {}'.format(scores))\n",
        "print('* Average score: {}'.format(np.mean(scores)))\n",
        "from sklearn.metrics import confusion_matrix # 混同行列\n",
        "cm = confusion_matrix(Y_test, Y_pred)\n",
        "print (cm)\n",
        "# print (cm.flatten())\n",
        "tn, fp, fn, tp = cm.flatten()\n",
        "print (tn, fp, fn, tp)\n",
        "# (L)\n",
        "p = tp / (tp+fp)\n",
        "r = tp / (tp+fn)\n",
        "f1_score= 2*(p*r) / (p+r)\n",
        "print(p)\n",
        "print(r)\n",
        "print(f1_score)"
      ],
      "execution_count": 33,
      "outputs": [
        {
          "output_type": "stream",
          "name": "stdout",
          "text": [
            "0.55\n",
            "* Cross-Validation scores: [0.5  0.4  0.45 0.5  0.45]\n",
            "* Average score: 0.4600000000000001\n",
            "[[5 4]\n",
            " [5 6]]\n",
            "5 4 5 6\n",
            "0.6\n",
            "0.5454545454545454\n",
            "0.5714285714285713\n"
          ]
        }
      ]
    },
    {
      "cell_type": "code",
      "metadata": {
        "id": "PAW6lyQFVo_j",
        "colab": {
          "base_uri": "https://localhost:8080/",
          "height": 328
        },
        "outputId": "030cadd3-c079-4d90-d38b-2b21b178e5d8"
      },
      "source": [
        "#5-1\n",
        "#5-5 op5-5\n",
        "import numpy as np\n",
        "import pandas as pd\n",
        "import warnings\n",
        "warnings.filterwarnings('ignore')\n",
        "# 訓練データとテストデータに分割\n",
        "from sklearn.model_selection import train_test_split\n",
        "from sklearn import metrics\n",
        "# (S1)\n",
        "from sklearn.ensemble import RandomForestClassifier\n",
        "# (F)\n",
        "df = pd.read_csv('http://callisto.comlab.soft.iwate-pu.ac.jp/~takata/course/testdata3.csv',names=['label','x','y'])\n",
        "# (A)\n",
        "test_df = df.drop(\"label\", axis=1)\n",
        "#print(df.head())\n",
        "# (B)\n",
        "test_target_data = pd.DataFrame(df['label'],columns=[\"label\"])\n",
        "#print(test_target_data.head())\n",
        "# (C)\n",
        "X_train, X_test, Y_trainDF, Y_test = train_test_split(\n",
        "\n",
        "test_df,test_target_data,test_size=20,train_size=80)\n",
        "\n",
        "# (D)\n",
        "#print(Y_trainDF.head())\n",
        "Y_trainDFv = Y_trainDF.values\n",
        "# print(Y_trainDFv[:5])\n",
        "# (E)\n",
        "Y_train = Y_trainDFv.ravel()\n",
        "# print(Y_train[:5])\n",
        "# 分類器オブジェクトが clf\n",
        "# (S2)\n",
        "clf = RandomForestClassifier()\n",
        "# X_train, Y_train の組を用いて学習を行う\n",
        "clf.fit(X_train, Y_train)\n",
        "# 学習結果を用いて X_test を分類し, 結果を Y_pred へ\n",
        "Y_pred = clf.predict(X_test)\n",
        "# 正解ラベル Y_test と比較することにより accuracy を求める\n",
        "print(metrics.accuracy_score(Y_test, Y_pred))\n",
        "# (LAST)\n",
        "# print (Y_pred[:5])\n",
        "# (4-2-1)\n",
        "Y_score = clf.predict_proba(X_test)\n",
        "#print (Y_score[:5,1])\n",
        "# (4-2-2)\n",
        "from sklearn.metrics import roc_curve\n",
        "fpr, tpr, thres = roc_curve(Y_test, Y_score[:,1], pos_label='B')\n",
        "#print (fpr)\n",
        "#print (tpr)\n",
        "#print (thres)\n",
        "# (4-2-3)\n",
        "auc = metrics.auc(fpr, tpr)\n",
        "print ('* AUC: {}'.format(auc))\n",
        "# (4-2-4) 曲線をプロット\n",
        "fig = plt.figure()\n",
        "ax = fig.add_subplot()\n",
        "ax.plot(fpr,tpr,marker='o')\n",
        "ax.grid()\n",
        "ax.set_title('ROC curve for Logistic Regression')\n",
        "ax.set_xlabel('FPR')\n",
        "ax.set_ylabel('TPR')\n",
        "#plt.show()\n",
        "plt.savefig(\"13.png\")"
      ],
      "execution_count": 34,
      "outputs": [
        {
          "output_type": "stream",
          "name": "stdout",
          "text": [
            "0.75\n",
            "* AUC: 0.8434343434343434\n"
          ]
        },
        {
          "output_type": "display_data",
          "data": {
            "image/png": "[encoded data removed]",
            "text/plain": [
              "<Figure size 432x288 with 1 Axes>"
            ]
          },
          "metadata": {
            "needs_background": "light"
          }
        }
      ]
    },
    {
      "cell_type": "code",
      "metadata": {
        "colab": {
          "base_uri": "https://localhost:8080/",
          "height": 245
        },
        "id": "w0sGfYIGK-Z_",
        "outputId": "52a50607-2caa-4716-ab8c-4479fdec07ba"
      },
      "source": [
        "#op5-5 (b)\n",
        "import numpy as np\n",
        "import pandas as pd\n",
        "import matplotlib.pyplot as plt\n",
        "# 訓練データとテストデータに分割\n",
        "from sklearn.model_selection import train_test_split\n",
        "from sklearn import metrics\n",
        "# (S1)\n",
        "from sklearn.ensemble import RandomForestClassifier\n",
        "# (F)\n",
        "df = pd.read_csv('http://callisto.comlab.soft.iwate-pu.ac.jp/~takata/course/testdata3.csv',names=['label','x','y'])\n",
        "# (F)\n",
        "def showGraph(X,label,model):\n",
        "# 境界線プロット用の格子状データを生成\n",
        " x1 = np.linspace(-10.0, 10.0, 50)\n",
        " x2 = np.linspace(-10.0, 10.0, 50)\n",
        "# (4-4-1)\n",
        " X1, X2 = np.meshgrid(x1, x2)\n",
        " # print (X1.ravel()[:10])\n",
        " # print (X2.ravel()[:10])\n",
        "# (4-4-2)\n",
        " plot_X = np.c_[X1.ravel(), X2.ravel()]\n",
        "# print (plot_X[:5])\n",
        "# (4-4-3)\n",
        " plot_y = model.predict(plot_X)\n",
        "\n",
        "# 格子データで散布図をプロットし、決定境界を描画\n",
        " plt.scatter(plot_X.T[0][plot_y == 'A'], plot_X.T[1][plot_y == 'A'],\n",
        "\n",
        " marker='o', color=\"red\", alpha=0.2)\n",
        "\n",
        " plt.scatter(plot_X.T[0][plot_y == 'B'], plot_X.T[1][plot_y == 'B'],\n",
        "\n",
        " marker='o', color=\"blue\", alpha=0.2)\n",
        "\n",
        "# データを散布図にプロット\n",
        "plt.scatter(X.T[0][label == 'A'], X.T[1][label == 'A'],\n",
        "marker='x', color=\"red\", alpha=1.0)\n",
        "plt.scatter(X.T[0][label == 'B'], X.T[1][label == 'B'],\n",
        "marker='x', color=\"blue\", alpha=1.0)\n",
        "\n",
        "plt.xlabel('x') # x 軸ラベル\n",
        "plt.ylabel('y') # y 軸ラベル\n",
        "plt.show()\n",
        "plt.savefig(\"13.png\")\n",
        "\n",
        "# (A)\n",
        "test_df = df.drop(\"label\", axis=1)\n",
        "#print(df.head())\n",
        "# (B)\n",
        "test_target_data = pd.DataFrame(df['label'],columns=[\"label\"])\n",
        "#print(test_target_data.head())\n",
        "# (C)\n",
        "X_train, X_test, Y_trainDF, Y_test = train_test_split(\n",
        "\n",
        "test_df,test_target_data,test_size=20,train_size=80)\n",
        "\n",
        "# (D)\n",
        "#print(Y_trainDF.head())\n",
        "Y_trainDFv = Y_trainDF.values\n",
        "# print(Y_trainDFv[:5])\n",
        "# (E)\n",
        "Y_train = Y_trainDFv.ravel()\n",
        "# print(Y_train[:5])\n",
        "# 分類器オブジェクトが clf\n",
        "# (S2)\n",
        "clf = RandomForestClassifier()\n",
        "\n",
        "# X_train, Y_train の組を用いて学習を行う\n",
        "clf.fit(X_train, Y_train)\n",
        "\n",
        "# 学習結果を用いて X_test を分類し, 結果を Y_pred へ\n",
        "Y_pred = clf.predict(X_test)\n",
        "\n",
        "# 正解ラベル Y_test と比較することにより accuracy を求める\n",
        "print(metrics.accuracy_score(Y_test, Y_pred))\n",
        "# (LAST)\n",
        "\n",
        "#ここでは実際の値をプロット\n",
        "X = test_df.to_numpy()\n",
        "label = test_target_data['label'].to_numpy()\n",
        "# 関数 showGraph を呼び出し\n",
        "showGraph(X,label,clf)\n"
      ],
      "execution_count": 35,
      "outputs": [
        {
          "output_type": "error",
          "ename": "NameError",
          "evalue": "ignored",
          "traceback": [
            "\u001b[0;31m---------------------------------------------------------------------------\u001b[0m",
            "\u001b[0;31mNameError\u001b[0m                                 Traceback (most recent call last)",
            "\u001b[0;32m<ipython-input-35-e4e017275d98>\u001b[0m in \u001b[0;36m<module>\u001b[0;34m()\u001b[0m\n\u001b[1;32m     35\u001b[0m \u001b[0;34m\u001b[0m\u001b[0m\n\u001b[1;32m     36\u001b[0m \u001b[0;31m# データを散布図にプロット\u001b[0m\u001b[0;34m\u001b[0m\u001b[0;34m\u001b[0m\u001b[0;34m\u001b[0m\u001b[0m\n\u001b[0;32m---> 37\u001b[0;31m plt.scatter(X.T[0][label == 'A'], X.T[1][label == 'A'],\n\u001b[0m\u001b[1;32m     38\u001b[0m marker='x', color=\"red\", alpha=1.0)\n\u001b[1;32m     39\u001b[0m plt.scatter(X.T[0][label == 'B'], X.T[1][label == 'B'],\n",
            "\u001b[0;31mNameError\u001b[0m: name 'X' is not defined"
          ]
        }
      ]
    },
    {
      "cell_type": "code",
      "metadata": {
        "id": "kSXesBWxLdMG",
        "colab": {
          "base_uri": "https://localhost:8080/"
        },
        "outputId": "38352104-cc48-4493-cba6-096ce60e77a3"
      },
      "source": [
        "#5-3\n",
        "import numpy as np\n",
        "import pandas as pd\n",
        "import warnings\n",
        "warnings.filterwarnings('ignore')\n",
        "# 訓練データとテストデータに分割\n",
        "from sklearn.model_selection import train_test_split\n",
        "from sklearn import metrics\n",
        "from sklearn.svm import SVC # サポートベクターマシン\n",
        "# (S1)\n",
        "from sklearn.svm import LinearSVC # 線形サポートベクターマシン\n",
        "# (F)\n",
        "df = pd.read_csv('http://callisto.comlab.soft.iwate-pu.ac.jp/~takata/course/testdata3.csv',names=['label','x','y'])\n",
        "# (A)\n",
        "test_df = df.drop(\"label\", axis=1)\n",
        "#print(df.head())\n",
        "# (B)\n",
        "test_target_data = pd.DataFrame(df['label'],columns=[\"label\"])\n",
        "#print(test_target_data.head())\n",
        "# (C)\n",
        "X_train, X_test, Y_trainDF, Y_test = train_test_split(\n",
        "\n",
        "test_df,test_target_data,test_size=20,train_size=80)\n",
        "\n",
        "# (D)\n",
        "#print(Y_trainDF.head())\n",
        "Y_trainDFv = Y_trainDF.values\n",
        "# print(Y_trainDFv[:5])\n",
        "# (E)\n",
        "Y_train = Y_trainDFv.ravel()\n",
        "# print(Y_train[:5])\n",
        "# 分類器オブジェクトが clf\n",
        "# (S2) 以降を以下で置き換え\n",
        "from sklearn.model_selection import GridSearchCV\n",
        "\n",
        "param_grid = {'C': [0.01, 0.1, 1, 10],\n",
        "'gamma': [0.01, 0.1, 1, 10]}\n",
        "\n",
        "#param_grid = {'kernel':['poly','rbf'],'C': [0.001,0.01, 0.1, 1, 10],'gamma': [0.001, 0.01, 0.1, 1, 10]}\n",
        "\n",
        "grid_search = GridSearchCV(SVC(), param_grid, cv=5)\n",
        "\n",
        "grid_search.fit(X_train, Y_trainDF.values.ravel())\n",
        "\n",
        "print('* Test set scores: {}'.format(grid_search.score(X_test,Y_test)))\n",
        "print('* Best parameters: {}'.format(grid_search.best_params_))\n",
        "print('* Best cross-validation scores: {}'.format(grid_search.best_score_))\n",
        "\n",
        "import pandas as pd\n",
        "gs_results = pd.DataFrame(grid_search.cv_results_)\n",
        "# print (gs_results.head())\n",
        "print (gs_results.columns[:3])\n"
      ],
      "execution_count": 36,
      "outputs": [
        {
          "output_type": "stream",
          "name": "stdout",
          "text": [
            "* Test set scores: 0.7\n",
            "* Best parameters: {'C': 1, 'gamma': 0.1}\n",
            "* Best cross-validation scores: 0.8\n",
            "Index(['mean_fit_time', 'std_fit_time', 'mean_score_time'], dtype='object')\n"
          ]
        }
      ]
    },
    {
      "cell_type": "code",
      "metadata": {
        "id": "9A3J-PVuOWOV",
        "colab": {
          "base_uri": "https://localhost:8080/",
          "height": 328
        },
        "outputId": "48924f67-e041-4a17-cd3f-b42e41ea34a3"
      },
      "source": [
        "#5-2 #多項式カーネルSVM\n",
        "import numpy as np\n",
        "import pandas as pd\n",
        "import warnings\n",
        "warnings.filterwarnings('ignore')\n",
        "# 訓練データとテストデータに分割\n",
        "from sklearn.model_selection import train_test_split\n",
        "from sklearn import metrics\n",
        "from sklearn.neighbors import KNeighborsClassifier #k-近傍法\n",
        "from sklearn.svm import SVC # サポートベクターマシン\n",
        "# (S1)\n",
        "from sklearn.svm import LinearSVC # 線形サポートベクターマシン\n",
        "# (F)\n",
        "df = pd.read_csv('http://callisto.comlab.soft.iwate-pu.ac.jp/~takata/course/testdata3.csv',names=['label','x','y'])\n",
        "# (A)\n",
        "test_df = df.drop(\"label\", axis=1)\n",
        "#print(df.head())\n",
        "# (B)\n",
        "test_target_data = pd.DataFrame(df['label'],columns=[\"label\"])\n",
        "#print(test_target_data.head())\n",
        "# (C)\n",
        "X_train, X_test, Y_trainDF, Y_test = train_test_split(\n",
        "\n",
        "test_df,test_target_data,test_size=20,train_size=80)\n",
        "\n",
        "# (D)\n",
        "#print(Y_trainDF.head())\n",
        "Y_trainDFv = Y_trainDF.values\n",
        "# print(Y_trainDFv[:5])\n",
        "# (E)\n",
        "Y_train = Y_trainDFv.ravel()\n",
        "# print(Y_train[:5])\n",
        "# 分類器オブジェクトが clf\n",
        "# (S2)\n",
        "#clf = SVC(kernel=\"poly\")#(a)\n",
        "clf = SVC(kernel=\"rbf\")#(b)\n",
        "# X_train, Y_train の組を用いて学習を行う\n",
        "clf.fit(X_train, Y_train)\n",
        "# 学習結果を用いて X_test を分類し, 結果を Y_pred へ\n",
        "Y_pred = clf.predict(X_test)\n",
        "print(metrics.accuracy_score(Y_test, Y_pred))\n",
        "# 正解ラベル Y_test と比較することにより accuracy を求める\n",
        "#OP5-2\n",
        "# (LAST)\n",
        "# print (Y_pred[:5])\n",
        "# (4-2-1)\n",
        "#Y_score = clf.predict_proba(X_test)\n",
        "# print (Y_score[:5,1])\n",
        "from sklearn.metrics import roc_curve\n",
        "# (4-2-2)\n",
        "fpr, tpr, thres = roc_curve(Y_test, Y_score[:,1], pos_label='B')\n",
        "# print (fpr)\n",
        "# print (tpr)\n",
        "# print (thres)\n",
        "# (4-2-3)\n",
        "auc = metrics.auc(fpr, tpr)\n",
        "print ('* AUC: {}'.format(auc))\n",
        "# (4-2-4) 曲線をプロット\n",
        "fig = plt.figure()\n",
        "ax = fig.add_subplot()\n",
        "ax.plot(fpr,tpr,marker='o')\n",
        "ax.grid()\n",
        "ax.set_title('ROC curve for Logistic Regression')\n",
        "ax.set_xlabel('FPR')\n",
        "ax.set_ylabel('TPR')\n",
        "#plt.show()\n",
        "plt.savefig('14.png')"
      ],
      "execution_count": 37,
      "outputs": [
        {
          "output_type": "stream",
          "name": "stdout",
          "text": [
            "0.85\n",
            "* AUC: 0.6\n"
          ]
        },
        {
          "output_type": "display_data",
          "data": {
            "image/png": "[encoded data removed]",
            "text/plain": [
              "<Figure size 432x288 with 1 Axes>"
            ]
          },
          "metadata": {
            "needs_background": "light"
          }
        }
      ]
    },
    {
      "cell_type": "code",
      "metadata": {
        "id": "8oAOYswv7c4m",
        "colab": {
          "base_uri": "https://localhost:8080/",
          "height": 245
        },
        "outputId": "b9941422-329c-4875-e44e-17c375ac377a"
      },
      "source": [
        "#5-2 #多項式カーネルSVM\n",
        "import numpy as np\n",
        "import pandas as pd\n",
        "import warnings\n",
        "warnings.filterwarnings('ignore')\n",
        "# 訓練データとテストデータに分割\n",
        "from sklearn.model_selection import train_test_split\n",
        "from sklearn import metrics\n",
        "from sklearn.neighbors import KNeighborsClassifier #k-近傍法\n",
        "from sklearn.svm import SVC # サポートベクターマシン\n",
        "# (S1)\n",
        "from sklearn.svm import LinearSVC # 線形サポートベクターマシン\n",
        "# (F)\n",
        "df = pd.read_csv('http://callisto.comlab.soft.iwate-pu.ac.jp/~takata/course/testdata3.csv',names=['label','x','y'])\n",
        "# (F)\n",
        "def showGraph(X,label,model):\n",
        "# 境界線プロット用の格子状データを生成\n",
        " x1 = np.linspace(-10.0, 10.0, 50)\n",
        " x2 = np.linspace(-10.0, 10.0, 50)\n",
        "# (4-4-1)\n",
        " X1, X2 = np.meshgrid(x1, x2)\n",
        " # print (X1.ravel()[:10])\n",
        " # print (X2.ravel()[:10])\n",
        "# (4-4-2)\n",
        " plot_X = np.c_[X1.ravel(), X2.ravel()]\n",
        "# print (plot_X[:5])\n",
        "# (4-4-3)\n",
        " plot_y = model.predict(plot_X)\n",
        "\n",
        "# 格子データで散布図をプロットし、決定境界を描画\n",
        " plt.scatter(plot_X.T[0][plot_y == 'A'], plot_X.T[1][plot_y == 'A'],\n",
        "\n",
        " marker='o', color=\"red\", alpha=0.2)\n",
        "\n",
        " plt.scatter(plot_X.T[0][plot_y == 'B'], plot_X.T[1][plot_y == 'B'],\n",
        "\n",
        " marker='o', color=\"blue\", alpha=0.2)\n",
        "\n",
        "# データを散布図にプロット\n",
        "plt.scatter(X.T[0][label == 'A'], X.T[1][label == 'A'],\n",
        "marker='x', color=\"red\", alpha=1.0)\n",
        "plt.scatter(X.T[0][label == 'B'], X.T[1][label == 'B'],\n",
        "marker='x', color=\"blue\", alpha=1.0)\n",
        "\n",
        "plt.xlabel('x') # x 軸ラベル\n",
        "plt.ylabel('y') # y 軸ラベル\n",
        "plt.show()\n",
        "plt.savefig(\"13.png\")\n",
        "# (A)\n",
        "test_df = df.drop(\"label\", axis=1)\n",
        "#print(df.head())\n",
        "# (B)\n",
        "test_target_data = pd.DataFrame(df['label'],columns=[\"label\"])\n",
        "#print(test_target_data.head())\n",
        "# (C)\n",
        "X_train, X_test, Y_trainDF, Y_test = train_test_split(\n",
        "\n",
        "test_df,test_target_data,test_size=20,train_size=80)\n",
        "\n",
        "# (D)\n",
        "#print(Y_trainDF.head())\n",
        "Y_trainDFv = Y_trainDF.values\n",
        "# print(Y_trainDFv[:5])\n",
        "# (E)\n",
        "Y_train = Y_trainDFv.ravel()\n",
        "# print(Y_train[:5])\n",
        "# 分類器オブジェクトが clf\n",
        "# (S2)\n",
        "#clf = SVC(kernel=\"poly\")\n",
        "clf = SVC(kernel=\"rbf\")  #(b)\n",
        "# X_train, Y_train の組を用いて学習を行う\n",
        "clf.fit(X_train, Y_train)\n",
        "# 学習結果を用いて X_test を分類し, 結果を Y_pred へ\n",
        "Y_pred = clf.predict(X_test)\n",
        "print(metrics.accuracy_score(Y_test, Y_pred))\n",
        "# 正解ラベル Y_test と比較することにより accuracy を求める\n",
        "# (LAST)\n",
        "#ここでは実際の値をプロット\n",
        "X = test_df.to_numpy()\n",
        "label = test_target_data['label'].to_numpy()\n",
        "# 関数 showGraph を呼び出し\n",
        "showGraph(X,label,clf)"
      ],
      "execution_count": 38,
      "outputs": [
        {
          "output_type": "error",
          "ename": "NameError",
          "evalue": "ignored",
          "traceback": [
            "\u001b[0;31m---------------------------------------------------------------------------\u001b[0m",
            "\u001b[0;31mNameError\u001b[0m                                 Traceback (most recent call last)",
            "\u001b[0;32m<ipython-input-38-53facb73164e>\u001b[0m in \u001b[0;36m<module>\u001b[0;34m()\u001b[0m\n\u001b[1;32m     38\u001b[0m \u001b[0;34m\u001b[0m\u001b[0m\n\u001b[1;32m     39\u001b[0m \u001b[0;31m# データを散布図にプロット\u001b[0m\u001b[0;34m\u001b[0m\u001b[0;34m\u001b[0m\u001b[0;34m\u001b[0m\u001b[0m\n\u001b[0;32m---> 40\u001b[0;31m plt.scatter(X.T[0][label == 'A'], X.T[1][label == 'A'],\n\u001b[0m\u001b[1;32m     41\u001b[0m marker='x', color=\"red\", alpha=1.0)\n\u001b[1;32m     42\u001b[0m plt.scatter(X.T[0][label == 'B'], X.T[1][label == 'B'],\n",
            "\u001b[0;31mNameError\u001b[0m: name 'X' is not defined"
          ]
        }
      ]
    },
    {
      "cell_type": "code",
      "metadata": {
        "id": "TRkFkyhs6D0F"
      },
      "source": [
        "#4-4\n",
        "import numpy as np\n",
        "import pandas as pd\n",
        "import matplotlib.pyplot as plt\n",
        "# 訓練データとテストデータに分割\n",
        "from sklearn.model_selection import train_test_split\n",
        "from sklearn import metrics\n",
        "# (S1)\n",
        "from sklearn.svm import LinearSVC # 線形サポートベクターマシン\n",
        "# (F)\n",
        "df = pd.read_csv('http://callisto.comlab.soft.iwate-pu.ac.jp/~takata/course/testdata3.csv',names=['label','x','y'])\n",
        "# (F)\n",
        "def showGraph(X,label,model):\n",
        "# 境界線プロット用の格子状データを生成\n",
        " x1 = np.linspace(-10.0, 10.0, 50)\n",
        " x2 = np.linspace(-10.0, 10.0, 50)\n",
        "# (4-4-1)\n",
        " X1, X2 = np.meshgrid(x1, x2)\n",
        " # print (X1.ravel()[:10])\n",
        " # print (X2.ravel()[:10])\n",
        "# (4-4-2)\n",
        " plot_X = np.c_[X1.ravel(), X2.ravel()]\n",
        "# print (plot_X[:5])\n",
        "# (4-4-3)\n",
        " plot_y = model.predict(plot_X)\n",
        "\n",
        "# 格子データで散布図をプロットし、決定境界を描画\n",
        " plt.scatter(plot_X.T[0][plot_y == 'A'], plot_X.T[1][plot_y == 'A'],\n",
        "\n",
        " marker='o', color=\"red\", alpha=0.2)\n",
        "\n",
        " plt.scatter(plot_X.T[0][plot_y == 'B'], plot_X.T[1][plot_y == 'B'],\n",
        "\n",
        " marker='o', color=\"blue\", alpha=0.2)\n",
        "\n",
        "# データを散布図にプロット\n",
        "plt.scatter(X.T[0][label == 'A'], X.T[1][label == 'A'],\n",
        "marker='x', color=\"red\", alpha=1.0)\n",
        "plt.scatter(X.T[0][label == 'B'], X.T[1][label == 'B'],\n",
        "marker='x', color=\"blue\", alpha=1.0)\n",
        "\n",
        "plt.xlabel('x') # x 軸ラベル\n",
        "plt.ylabel('y') # y 軸ラベル\n",
        "plt.show()\n",
        "plt.savefig(\"13.png\")\n",
        "\n",
        "# (A)\n",
        "test_df = df.drop(\"label\", axis=1)\n",
        "#print(df.head())\n",
        "# (B)\n",
        "test_target_data = pd.DataFrame(df['label'],columns=[\"label\"])\n",
        "#print(test_target_data.head())\n",
        "# (C)\n",
        "X_train, X_test, Y_trainDF, Y_test = train_test_split(\n",
        "\n",
        "test_df,test_target_data,test_size=20,train_size=80)\n",
        "\n",
        "# (D)\n",
        "#print(Y_trainDF.head())\n",
        "Y_trainDFv = Y_trainDF.values\n",
        "# print(Y_trainDFv[:5])\n",
        "# (E)\n",
        "Y_train = Y_trainDFv.ravel()\n",
        "# print(Y_train[:5])\n",
        "# 分類器オブジェクトが clf\n",
        "# (S2)\n",
        "clf = LinearSVC()\n",
        "\n",
        "# X_train, Y_train の組を用いて学習を行う\n",
        "clf.fit(X_train, Y_train)\n",
        "\n",
        "# 学習結果を用いて X_test を分類し, 結果を Y_pred へ\n",
        "Y_pred = clf.predict(X_test)\n",
        "\n",
        "# 正解ラベル Y_test と比較することにより accuracy を求める\n",
        "print(metrics.accuracy_score(Y_test, Y_pred))\n",
        "# (LAST)\n",
        "\n",
        "#ここでは実際の値をプロット\n",
        "X = test_df.to_numpy()\n",
        "label = test_target_data['label'].to_numpy()\n",
        "# 関数 showGraph を呼び出し\n",
        "showGraph(X,label,clf)\n"
      ],
      "execution_count": null,
      "outputs": []
    },
    {
      "cell_type": "code",
      "metadata": {
        "id": "740kS8gTN-N3"
      },
      "source": [
        ""
      ],
      "execution_count": null,
      "outputs": []
    },
    {
      "cell_type": "code",
      "metadata": {
        "id": "or28EFt_0WaZ"
      },
      "source": [
        "#4-2\n",
        "import numpy as np\n",
        "import pandas as pd\n",
        "# 訓練データとテストデータに分割\n",
        "from sklearn.model_selection import train_test_split\n",
        "from sklearn import metrics\n",
        "# (S1)\n",
        "from sklearn.svm import LinearSVC # 線形サポートベクターマシン\n",
        "from sklearn.model_selection import train_test_split\n",
        "from sklearn.linear_model import LogisticRegression\n",
        "# (F)\n",
        "df = pd.read_csv('http://callisto.comlab.soft.iwate-pu.ac.jp/~takata/course/testdata1.csv',names=['label','x','y'])\n",
        "# (A)\n",
        "test_df = df.drop(\"label\", axis=1)\n",
        "#print(df.head())\n",
        "# (B)\n",
        "test_target_data = pd.DataFrame(df['label'],columns=[\"label\"])\n",
        "#print(test_target_data.head())\n",
        "# (C)\n",
        "X_train, X_test, Y_trainDF, Y_test = train_test_split(\n",
        "test_df,test_target_data,test_size=20,\n",
        "train_size=80,random_state=200)\n",
        "# (D)\n",
        "print(Y_trainDF.head())\n",
        "Y_trainDFv = Y_trainDF.values\n",
        "# print(Y_trainDFv[:5])\n",
        "# (E)\n",
        "Y_train = Y_trainDFv.ravel()\n",
        "# print(Y_train[:5])\n",
        "# 分類器オブジェクトが clf\n",
        "# (S2)\n",
        "clf = LogisticRegression()\n",
        "# X_train, Y_train の組を用いて学習を行う\n",
        "clf.fit(X_train, Y_train)\n",
        "# 学習結果を用いて X_test を分類し, 結果を Y_pred へ\n",
        "Y_pred = clf.predict(X_test)\n",
        "# 正解ラベル Y_test と比較することにより accuracy を求める\n",
        "print(metrics.accuracy_score(Y_test, Y_pred))\n",
        "# (LAST)\n",
        "# print (Y_pred[:5])\n",
        "# (4-2-1)\n",
        "Y_score = clf.predict_proba(X_test)\n",
        "#print (Y_score[:5,1])\n",
        "# (4-2-2)\n",
        "from sklearn.metrics import roc_curve\n",
        "fpr, tpr, thres = roc_curve(Y_test, Y_score[:,1], pos_label='B')\n",
        "#print (fpr)\n",
        "#print (tpr)\n",
        "#print (thres)\n",
        "# (4-2-3)\n",
        "auc = metrics.auc(fpr, tpr)\n",
        "print ('* AUC: {}'.format(auc))\n",
        "# (4-2-4) 曲線をプロット\n",
        "fig = plt.figure()\n",
        "ax = fig.add_subplot()\n",
        "ax.plot(fpr,tpr,marker='o')\n",
        "ax.grid()\n",
        "ax.set_title('ROC curve for Logistic Regression')\n",
        "ax.set_xlabel('FPR')\n",
        "ax.set_ylabel('TPR')\n",
        "#plt.show()\n",
        "plt.savefig(\"8.png\")"
      ],
      "execution_count": null,
      "outputs": []
    },
    {
      "cell_type": "code",
      "metadata": {
        "id": "1oemTAW-wzAB"
      },
      "source": [
        "#4-3\n",
        "import numpy as np\n",
        "import pandas as pd\n",
        "# 訓練データとテストデータに分割\n",
        "from sklearn.model_selection import train_test_split\n",
        "from sklearn import metrics\n",
        "# (S1)\n",
        "from sklearn.neighbors import KNeighborsClassifier \n",
        "# (F)\n",
        "df = pd.read_csv('http://callisto.comlab.soft.iwate-pu.ac.jp/~takata/course/testdata1.csv',names=['label','x','y'])\n",
        "# (A)\n",
        "test_df = df.drop(\"label\", axis=1)\n",
        "#print(df.head())\n",
        "# (B)\n",
        "test_target_data = pd.DataFrame(df['label'],columns=[\"label\"])\n",
        "#print(test_target_data.head())\n",
        "# (C)\n",
        "X_train, X_test, Y_trainDF, Y_test = train_test_split(\n",
        "\n",
        "test_df,test_target_data,test_size=20,train_size=80)\n",
        "\n",
        "# (D)\n",
        "#print(Y_trainDF.head())\n",
        "Y_trainDFv = Y_trainDF.values\n",
        "# print(Y_trainDFv[:5])\n",
        "# (E)\n",
        "Y_train = Y_trainDFv.ravel()\n",
        "# print(Y_train[:5])\n",
        "# 分類器オブジェクトが clf\n",
        "# (S2)\n",
        "clf = KNeighborsClassifier(n_neighbors=59)\n",
        "\n",
        "# X_train, Y_train の組を用いて学習を行う\n",
        "clf.fit(X_train, Y_train)\n",
        "\n",
        "# 学習結果を用いて X_test を分類し, 結果を Y_pred へ\n",
        "Y_pred = clf.predict(X_test)\n",
        "\n",
        "# 正解ラベル Y_test と比較することにより accuracy を求める\n",
        "print(metrics.accuracy_score(Y_test, Y_pred))\n",
        "# (LAST)\n",
        "#交差検証\n",
        "from sklearn.model_selection import cross_val_score\n",
        "scores = cross_val_score(clf, test_df, test_target_data.values.ravel())\n",
        "print('* Cross-Validation scores: {}'.format(scores))\n",
        "print('* Average score: {}'.format(np.mean(scores)))\n"
      ],
      "execution_count": null,
      "outputs": []
    },
    {
      "cell_type": "code",
      "metadata": {
        "id": "9n5qxfo-2BP4"
      },
      "source": [
        "#4-4\n",
        "import numpy as np\n",
        "import pandas as pd\n",
        "import matplotlib.pyplot as plt\n",
        "# 訓練データとテストデータに分割\n",
        "from sklearn.model_selection import train_test_split\n",
        "from sklearn import metrics\n",
        "# (S1)\n",
        "from sklearn.svm import LinearSVC # 線形サポートベクターマシン\n",
        "# (F)\n",
        "df = pd.read_csv('http://callisto.comlab.soft.iwate-pu.ac.jp/~takata/course/testdata1.csv',names=['label','x','y'])\n",
        "# (F)\n",
        "def showGraph(X,label,model):\n",
        "# 境界線プロット用の格子状データを生成\n",
        " x1 = np.linspace(-10.0, 10.0, 50)\n",
        " x2 = np.linspace(-10.0, 10.0, 50)\n",
        "# (4-4-1)\n",
        " X1, X2 = np.meshgrid(x1, x2)\n",
        " # print (X1.ravel()[:10])\n",
        " # print (X2.ravel()[:10])\n",
        "# (4-4-2)\n",
        " plot_X = np.c_[X1.ravel(), X2.ravel()]\n",
        "# print (plot_X[:5])\n",
        "# (4-4-3)\n",
        " plot_y = model.predict(plot_X)\n",
        "\n",
        "# 格子データで散布図をプロットし、決定境界を描画\n",
        " plt.scatter(plot_X.T[0][plot_y == 'A'], plot_X.T[1][plot_y == 'A'],\n",
        "\n",
        " marker='o', color=\"red\", alpha=0.2)\n",
        "\n",
        " plt.scatter(plot_X.T[0][plot_y == 'B'], plot_X.T[1][plot_y == 'B'],\n",
        "\n",
        " marker='o', color=\"blue\", alpha=0.2)\n",
        "\n",
        "# データを散布図にプロット\n",
        "plt.scatter(X.T[0][label == 'A'], X.T[1][label == 'A'],\n",
        "marker='x', color=\"red\", alpha=1.0)\n",
        "plt.scatter(X.T[0][label == 'B'], X.T[1][label == 'B'],\n",
        "marker='x', color=\"blue\", alpha=1.0)\n",
        "\n",
        "plt.xlabel('x') # x 軸ラベル\n",
        "plt.ylabel('y') # y 軸ラベル\n",
        "plt.show()\n",
        "plt.savefig(\"10.png\")\n",
        "\n",
        "# (A)\n",
        "test_df = df.drop(\"label\", axis=1)\n",
        "#print(df.head())\n",
        "# (B)\n",
        "test_target_data = pd.DataFrame(df['label'],columns=[\"label\"])\n",
        "#print(test_target_data.head())\n",
        "# (C)\n",
        "X_train, X_test, Y_trainDF, Y_test = train_test_split(\n",
        "\n",
        "test_df,test_target_data,test_size=20,train_size=80)\n",
        "\n",
        "# (D)\n",
        "#print(Y_trainDF.head())\n",
        "Y_trainDFv = Y_trainDF.values\n",
        "# print(Y_trainDFv[:5])\n",
        "# (E)\n",
        "Y_train = Y_trainDFv.ravel()\n",
        "# print(Y_train[:5])\n",
        "# 分類器オブジェクトが clf\n",
        "# (S2)\n",
        "clf = LinearSVC()\n",
        "\n",
        "# X_train, Y_train の組を用いて学習を行う\n",
        "clf.fit(X_train, Y_train)\n",
        "\n",
        "# 学習結果を用いて X_test を分類し, 結果を Y_pred へ\n",
        "Y_pred = clf.predict(X_test)\n",
        "\n",
        "# 正解ラベル Y_test と比較することにより accuracy を求める\n",
        "print(metrics.accuracy_score(Y_test, Y_pred))\n",
        "# (LAST)\n",
        "\n",
        "#ここでは実際の値をプロット\n",
        "X = test_df.to_numpy()\n",
        "label = test_target_data['label'].to_numpy()\n",
        "# 関数 showGraph を呼び出し\n",
        "showGraph(X,label,clf)\n"
      ],
      "execution_count": null,
      "outputs": []
    },
    {
      "cell_type": "code",
      "metadata": {
        "id": "IikQDHKKgkZu"
      },
      "source": [
        "#OP5-4\n",
        "import numpy as np\n",
        "import pandas as pd\n",
        "from sklearn.model_selection import train_test_split\n",
        "from sklearn import metrics\n",
        "# (S1)\n",
        "from sklearn.svm import SVC # サポートベクターマシン\n",
        "# (F)\n",
        "# (*pandas)\n",
        "df = pd.read_csv('http://callisto.comlab.soft.iwate-pu.ac.jp/~takata/course/testdata1na.csv',names=['label', 'x', 'y', 'z', 'w'])\n",
        "# (A)\n",
        "test_df = df.drop(\"label\", axis=1)\n",
        "# print(df.head())\n",
        "# (G)\n",
        "test_df = test_df.drop(columns=['z','w'],axis=1)\n",
        "# (B)\n",
        "test_target_data = pd.DataFrame(df['label'],columns=[\"label\"])\n",
        "# print(test_target_data.head())\n",
        "# (C)\n",
        "X_train, X_test, Y_trainDF, Y_test = train_test_split(\n",
        "\n",
        "test_df,test_target_data,test_size=20,train_size=80)\n",
        "\n",
        "# (S2)\n",
        "clf = SVC()\n",
        "clf.fit(X_train, Y_train)\n",
        "Y_pred = clf.predict(X_test)\n",
        "print(metrics.accuracy_score(Y_test, Y_pred))\n",
        "# (LAST)\n",
        "from sklearn.model_selection import cross_val_score\n",
        "scores = cross_val_score(clf, test_df, test_target_data.values.ravel())\n",
        "print('* Cross-Validation scores: {}'.format(scores))\n",
        "print('* Average score: {}'.format(np.mean(scores)))\n",
        "# (LAST2)"
      ],
      "execution_count": null,
      "outputs": []
    },
    {
      "cell_type": "code",
      "metadata": {
        "id": "CS7lCBlgAn0R"
      },
      "source": [
        "#5-5op(d)\n",
        "#4-3\n",
        "import numpy as np\n",
        "import pandas as pd\n",
        "# 訓練データとテストデータに分割\n",
        "from sklearn.model_selection import train_test_split\n",
        "from sklearn import metrics\n",
        "# (S1)\n",
        "from sklearn.ensemble import AdaBoostClassifier\n",
        "# (F)\n",
        "df = pd.read_csv('http://callisto.comlab.soft.iwate-pu.ac.jp/~takata/course/testdata3.csv',names=['label','x','y'])\n",
        "# (A)\n",
        "test_df = df.drop(\"label\", axis=1)\n",
        "#print(df.head())\n",
        "# (B)\n",
        "test_target_data = pd.DataFrame(df['label'],columns=[\"label\"])\n",
        "#print(test_target_data.head())\n",
        "# (C)\n",
        "X_train, X_test, Y_trainDF, Y_test = train_test_split(\n",
        "\n",
        "test_df,test_target_data,test_size=20,train_size=80)\n",
        "\n",
        "# (D)\n",
        "#print(Y_trainDF.head())\n",
        "Y_trainDFv = Y_trainDF.values\n",
        "# print(Y_trainDFv[:5])\n",
        "# (E)\n",
        "Y_train = Y_trainDFv.ravel()\n",
        "# print(Y_train[:5])\n",
        "# 分類器オブジェクトが clf\n",
        "# (S2)\n",
        "clf = AdaBoostClassifier(base_estimator=None, n_estimators=50, learning_rate=1.0, algorithm='SAMME.R', random_state=None)\n",
        "\n",
        "\n",
        "# X_train, Y_train の組を用いて学習を行う\n",
        "clf.fit(X_train, Y_train)\n",
        "\n",
        "# 学習結果を用いて X_test を分類し, 結果を Y_pred へ\n",
        "Y_pred = clf.predict(X_test)\n",
        "\n",
        "# 正解ラベル Y_test と比較することにより accuracy を求める\n",
        "print(metrics.accuracy_score(Y_test, Y_pred))\n",
        "# (LAST)\n",
        "#交差検証\n",
        "from sklearn.model_selection import cross_val_score\n",
        "scores = cross_val_score(clf, test_df, test_target_data.values.ravel())\n",
        "print('* Cross-Validation scores: {}'.format(scores))\n",
        "print('* Average score: {}'.format(np.mean(scores)))"
      ],
      "execution_count": null,
      "outputs": []
    },
    {
      "cell_type": "code",
      "metadata": {
        "id": "xhNPgEBDKrrj"
      },
      "source": [
        "#6\n",
        "import numpy as np\n",
        "import pandas as pd\n",
        "import scipy as sp\n",
        "from scipy import stats\n",
        "# 訓練データとテストデータに分割\n",
        "from sklearn.model_selection import train_test_split\n",
        "from sklearn import metrics\n",
        "# (S1)\n",
        "from sklearn.svm import LinearSVC # 線形サポートベクターマシン\n",
        "from sklearn.linear_model import LogisticRegression # ロジスティック回帰\n",
        "from sklearn.neighbors import KNeighborsClassifier # K近傍法\n",
        "from sklearn.svm import SVC # サポートベクターマシン\n",
        "from sklearn.tree import DecisionTreeClassifier # 決定木\n",
        "from sklearn.ensemble import RandomForestClassifier # ランダムフォレスト\n",
        "from sklearn.ensemble import AdaBoostClassifier # AdaBoost\n",
        "# (F)\n",
        "df = pd.read_csv('http://callisto.comlab.soft.iwate-pu.ac.jp/~takata/course/hiroya-train.csv')\n",
        "dl = pd.read_csv('http://callisto.comlab.soft.iwate-pu.ac.jp/~takata/course/hiroya-test.csv')\n",
        "# (A)\n",
        "test_df = df.drop(\"target\", axis=1)\n",
        "#print(df.head())\n",
        "\n",
        "# (B)\n",
        "test_target_data = pd.DataFrame(df['target'],columns=[\"target\"])\n",
        "#print(test_target_data.head())\n",
        "# (C)\n",
        "X_train, X_test, Y_trainDF, Y_test = train_test_split(\n",
        "\n",
        "test_df,test_target_data,test_size=4,train_size=32)\n",
        "\n",
        "# (D)\n",
        "#print(Y_trainDF.head())\n",
        "Y_trainDFv = Y_trainDF.values\n",
        "# print(Y_trainDFv[:5])\n",
        "# (E)\n",
        "Y_train = Y_trainDFv.ravel()\n",
        "# print(Y_train[:5])\n",
        "# 分類器オブジェクトが clf\n",
        "# (S2)\n",
        "\n",
        "clf = LinearSVC()\n",
        "#clf= SVC()\n",
        "#clf = KNeighborsClassifier(n_neighbors=1)\n",
        "#clf = SVC(kernel=\"poly\")\n",
        "#clf = SVC(kernel=\"rbf\")  #(b)\n",
        "#clf = AdaBoostClassifier(base_estimator=None, n_estimators=50, learning_rate=1.0, algorithm='SAMME.R', random_state=None)\n",
        "#clf = LogisticRegression()\n",
        "#clf = RandomForestClassifier()\n",
        "# X_train, Y_train の組を用いて学習を行う\n",
        "clf.fit(X_train, Y_train)\n",
        "\n",
        "# 学習結果を用いて X_test を分類し, 結果を Y_pred へ\n",
        "hiroya_pred = clf.predict(dl)\n",
        "print(hiroya_pred)\n",
        "# 正解ラベル Y_test と比較することにより accuracy を求める\n",
        "#print(metrics.accuracy_score(Y_test, Y_pred))\n",
        "# (LAST)\n",
        "#交差検証\n",
        "from sklearn.model_selection import cross_val_score\n",
        "scores = cross_val_score(clf, test_df, test_target_data.values.ravel())\n",
        "print('* Cross-Validation scores: {}'.format(scores))\n",
        "print('* Average score: {}'.format(np.mean(scores)))"
      ],
      "execution_count": null,
      "outputs": []
    },
    {
      "cell_type": "code",
      "metadata": {
        "id": "lrexaP3jNPB0"
      },
      "source": [
        "#6\n",
        "import numpy as np\n",
        "import pandas as pd\n",
        "import scipy as sp\n",
        "from scipy import stats\n",
        "# 訓練データとテストデータに分割\n",
        "from sklearn.model_selection import train_test_split\n",
        "from sklearn import metrics\n",
        "# (S1)\n",
        "from sklearn.svm import LinearSVC # 線形サポートベクターマシン\n",
        "from sklearn.linear_model import LogisticRegression # ロジスティック回帰\n",
        "from sklearn.neighbors import KNeighborsClassifier # K近傍法\n",
        "from sklearn.svm import SVC # サポートベクターマシン\n",
        "from sklearn.tree import DecisionTreeClassifier # 決定木\n",
        "from sklearn.ensemble import RandomForestClassifier # ランダムフォレスト\n",
        "from sklearn.ensemble import AdaBoostClassifier # AdaBoost\n",
        "# (F)\n",
        "df = pd.read_csv('http://callisto.comlab.soft.iwate-pu.ac.jp/~takata/course/hiroya-train.csv')\n",
        "dl = pd.read_csv('http://callisto.comlab.soft.iwate-pu.ac.jp/~takata/course/hiroya-test.csv')\n",
        "# (A)\n",
        "test_df = df.drop(\"target\", axis=1)\n",
        "#print(df.head())\n",
        "# (B)\n",
        "test_target_data = pd.DataFrame(df['target'],columns=[\"target\"])\n",
        "#print(test_target_data.head())\n",
        "# (C)\n",
        "X_train, X_test, Y_trainDF, Y_test = train_test_split(\n",
        "\n",
        "test_df,test_target_data,test_size=4,train_size=32)\n",
        "\n",
        "# (D)\n",
        "#print(Y_trainDF.head())\n",
        "Y_trainDFv = Y_trainDF.values\n",
        "# print(Y_trainDFv[:5])\n",
        "# (E)\n",
        "Y_train = Y_trainDFv.ravel()\n",
        "# print(Y_train[:5])\n",
        "# 分類器オブジェクトが clf\n",
        "# (S2)\n",
        "\n",
        "# (S2) 以降を以下で置き換え\n",
        "from sklearn.model_selection import GridSearchCV\n",
        "\n",
        "param_grid = {'C': [0.01, 0.1, 1, 10],\n",
        "'gamma': [0.01, 0.1, 1, 10]}\n",
        "\n",
        "grid_search = GridSearchCV(SVC(), param_grid, cv=5)\n",
        "\n",
        "grid_search.fit(X_train, Y_trainDF.values.ravel())\n",
        "\n",
        "print('* Test set scores: {}'.format(grid_search.score(X_test,Y_test)))\n",
        "print('* Best parameters: {}'.format(grid_search.best_params_))\n",
        "print('* Best cross-validation scores: {}'.format(grid_search.best_score_))"
      ],
      "execution_count": null,
      "outputs": []
    },
    {
      "cell_type": "code",
      "metadata": {
        "id": "GVnmv-CPwkqZ"
      },
      "source": [
        "import numpy as np\n",
        "import pandas as pd\n",
        "# 訓練データとテストデータに分割\n",
        "from sklearn.model_selection import train_test_split\n",
        "from sklearn import metrics\n",
        "# (S1)\n",
        "from sklearn.svm import LinearSVC # 線形サポートベクターマシン\n",
        "# (F)\n",
        "df = pd.read_csv('http://callisto.comlab.soft.iwate-pu.ac.jp/~takata/course/hiroya-train.csv')\n",
        "dl = pd.read_csv('http://callisto.comlab.soft.iwate-pu.ac.jp/~takata/course/hiroya-test.csv')\n",
        "# (A)\n",
        "# (A)\n",
        "test_df = df.drop(\"target\", axis=1)\n",
        "print(df.head())\n",
        "# (B)\n",
        "test_target_data = pd.DataFrame(df['target'],columns=[\"target\"])\n",
        "print(test_target_data.head())\n",
        "# (C)\n",
        "X_train, X_test, Y_trainDF, Y_test = train_test_split(\n",
        "\n",
        "test_df,test_target_data,test_size=4,train_size=32)\n",
        "\n",
        "# (D)\n",
        "print(Y_trainDF.head())\n",
        "Y_trainDFv = Y_trainDF.values\n",
        "print(Y_trainDFv[:5])\n",
        "# (E)\n",
        "Y_train = Y_trainDFv.ravel()\n",
        "print(Y_train[:5])\n",
        "# 分類器オブジェクトが clf\n",
        "# (S2)\n",
        "clf = LinearSVC()\n",
        "# X_train, Y_train の組を用いて学習を行う\n",
        "clf.fit(X_train, Y_train)\n",
        "# 学習結果を用いて X_test を分類し, 結果を Y_pred へ\n",
        "Y_pred = clf.predict(X_test)\n",
        "# 正解ラベル Y_test と比較することにより accuracy を求める\n",
        "print(metrics.accuracy_score(Y_test, Y_pred))\n",
        "# (LAST)"
      ],
      "execution_count": null,
      "outputs": []
    },
    {
      "cell_type": "code",
      "metadata": {
        "id": "VLMi4jSz6dj_"
      },
      "source": [
        "33**7%1517"
      ],
      "execution_count": null,
      "outputs": []
    },
    {
      "cell_type": "code",
      "metadata": {
        "id": "o52DHt8Yz34v"
      },
      "source": [
        "1228**103%1517"
      ],
      "execution_count": null,
      "outputs": []
    },
    {
      "cell_type": "code",
      "metadata": {
        "id": "blzD76722xI1"
      },
      "source": [
        "100**7%1517"
      ],
      "execution_count": null,
      "outputs": []
    },
    {
      "cell_type": "code",
      "metadata": {
        "id": "WRLDIxWf3Mrz"
      },
      "source": [
        "1062**103%1517"
      ],
      "execution_count": null,
      "outputs": []
    },
    {
      "cell_type": "code",
      "metadata": {
        "id": "yvIVxSOF3qnI"
      },
      "source": [
        ""
      ],
      "execution_count": null,
      "outputs": []
    }
  ]
}